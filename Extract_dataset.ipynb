{
 "cells": [
  {
   "cell_type": "code",
   "execution_count": 7,
   "id": "4b66eac5-f009-496f-958b-43cbf3551d29",
   "metadata": {},
   "outputs": [
    {
     "name": "stderr",
     "output_type": "stream",
     "text": [
      "/tmp/ipykernel_103637/3066272892.py:3: FutureWarning: You are using `torch.load` with `weights_only=False` (the current default value), which uses the default pickle module implicitly. It is possible to construct malicious pickle data which will execute arbitrary code during unpickling (See https://github.com/pytorch/pytorch/blob/main/SECURITY.md#untrusted-models for more details). In a future release, the default value for `weights_only` will be flipped to `True`. This limits the functions that could be executed during unpickling. Arbitrary objects will no longer be allowed to be loaded via this mode unless they are explicitly allowlisted by the user via `torch.serialization.add_safe_globals`. We recommend you start setting `weights_only=True` for any use case where you don't have full control of the loaded file. Please open an issue on GitHub for any issues related to this experimental feature.\n",
      "  pykeen_model = torch.load(\"/home/groujanski/DataAI/LLM_Project/CSDG_TransE/trained_model.pkl\")\n"
     ]
    }
   ],
   "source": [
    "import torch\n",
    "\n",
    "pykeen_model = torch.load(\"/home/groujanski/DataAI/LLM_Project/CSDG_TransE/trained_model.pkl\")"
   ]
  },
  {
   "cell_type": "code",
   "execution_count": 10,
   "id": "3fe48677-dcf4-4ae1-9c29-3ffc471b39aa",
   "metadata": {},
   "outputs": [],
   "source": [
    "from pykeen.datasets import CSKG\n",
    "import pandas as pd\n",
    "\n",
    "# Load the CSKG dataset\n",
    "dataset = CSKG()\n",
    "\n",
    "# Convert to Pandas DataFrame\n",
    "triples = dataset.training.mapped_triples.numpy()\n",
    "\n",
    "# Get entity and relation mappings\n",
    "entities = {i: entity for i, entity in dataset.training.entity_id_to_label.items()}\n",
    "relations = {i: relation for i, relation in dataset.training.relation_id_to_label.items()}"
   ]
  },
  {
   "cell_type": "code",
   "execution_count": 11,
   "id": "61062b66-fe5f-4f10-995d-5415298ad748",
   "metadata": {},
   "outputs": [],
   "source": [
    "import numpy as np\n",
    "import pandas as pd\n",
    "import torch\n",
    "\n",
    "# Step 1: Get entity and relation embeddings\n",
    "entity_embeddings = pykeen_model.entity_representations[0]()  # Extract entity embeddings\n",
    "relation_embeddings = pykeen_model.relation_representations[0]()  # Extract relation embeddings\n",
    "\n",
    "# Convert embeddings to NumPy arrays\n",
    "entity_embeddings_np = entity_embeddings.detach().cpu().numpy()\n",
    "relation_embeddings_np = relation_embeddings.detach().cpu().numpy()\n",
    "\n",
    "# Step 2: Map Entity and Relation IDs to Labels\n",
    "entity_df = pd.DataFrame(entity_embeddings_np)\n",
    "entity_df.insert(0, \"Entity\", [entities[i] for i in range(len(entities))])  # Add entity labels\n",
    "\n",
    "relation_df = pd.DataFrame(relation_embeddings_np)\n",
    "relation_df.insert(0, \"Relation\", [relations[i] for i in range(len(relations))])  # Add relation labels\n",
    "\n",
    "# Step 3: Save embeddings as CSV files\n",
    "entity_df.to_csv(\"CSKG_Entity_Embeddings.csv\", index=False)\n",
    "relation_df.to_csv(\"CSKG_Relation_Embeddings.csv\", index=False)"
   ]
  },
  {
   "cell_type": "code",
   "execution_count": null,
   "id": "7190dd0c-6559-4117-8fcc-a5c5ae338169",
   "metadata": {},
   "outputs": [],
   "source": []
  }
 ],
 "metadata": {
  "kernelspec": {
   "display_name": "Python 3 (ipykernel)",
   "language": "python",
   "name": "python3"
  },
  "language_info": {
   "codemirror_mode": {
    "name": "ipython",
    "version": 3
   },
   "file_extension": ".py",
   "mimetype": "text/x-python",
   "name": "python",
   "nbconvert_exporter": "python",
   "pygments_lexer": "ipython3",
   "version": "3.12.8"
  }
 },
 "nbformat": 4,
 "nbformat_minor": 5
}
